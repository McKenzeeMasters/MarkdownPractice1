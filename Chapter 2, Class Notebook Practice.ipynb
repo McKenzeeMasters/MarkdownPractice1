{
 "cells": [
  {
   "cell_type": "code",
   "execution_count": 1,
   "id": "3a0e821c",
   "metadata": {},
   "outputs": [
    {
     "name": "stdout",
     "output_type": "stream",
     "text": [
      "6\n"
     ]
    }
   ],
   "source": [
    "a=3\n",
    "b=a*2\n",
    "print(b)"
   ]
  },
  {
   "cell_type": "code",
   "execution_count": 2,
   "id": "927637b2",
   "metadata": {},
   "outputs": [
    {
     "name": "stdout",
     "output_type": "stream",
     "text": [
      "31\n"
     ]
    }
   ],
   "source": [
    "c=12\n",
    "d=19\n",
    "print(c+d)"
   ]
  },
  {
   "cell_type": "code",
   "execution_count": 3,
   "id": "dc9e6d8d",
   "metadata": {},
   "outputs": [
    {
     "name": "stdout",
     "output_type": "stream",
     "text": [
      "Hi Bestie\n"
     ]
    }
   ],
   "source": [
    "print(\"Hi Bestie\")"
   ]
  },
  {
   "cell_type": "markdown",
   "id": "2578b27a",
   "metadata": {},
   "source": [
    "# Heading1"
   ]
  },
  {
   "cell_type": "markdown",
   "id": "2090db1b",
   "metadata": {},
   "source": [
    "## Heading 2"
   ]
  },
  {
   "cell_type": "markdown",
   "id": "d5f8f718",
   "metadata": {},
   "source": [
    "### Heading 3"
   ]
  },
  {
   "cell_type": "markdown",
   "id": "46594018",
   "metadata": {},
   "source": [
    "#### Heading 4"
   ]
  },
  {
   "cell_type": "markdown",
   "id": "045e1389",
   "metadata": {},
   "source": [
    "##### Heading 5"
   ]
  },
  {
   "cell_type": "markdown",
   "id": "bafa1a0e",
   "metadata": {},
   "source": [
    "###### Heading 6"
   ]
  },
  {
   "cell_type": "markdown",
   "id": "d7cd05fc",
   "metadata": {},
   "source": [
    ">What is up?"
   ]
  },
  {
   "cell_type": "markdown",
   "id": "8913c829",
   "metadata": {},
   "source": [
    "* soup\n",
    "* ketchup\n",
    "* milk"
   ]
  },
  {
   "cell_type": "markdown",
   "id": "fc0f852b",
   "metadata": {},
   "source": [
    "1. get up\n",
    "2. brush teeth\n",
    "3. wash face\n",
    "4. brush hair\n"
   ]
  },
  {
   "cell_type": "markdown",
   "id": "1f1d0eb6",
   "metadata": {},
   "source": [
    "**GOOD MORNING**"
   ]
  },
  {
   "cell_type": "markdown",
   "id": "6e2eb9c0",
   "metadata": {},
   "source": [
    "**Good Morning**"
   ]
  },
  {
   "cell_type": "markdown",
   "id": "7cd5c3d5",
   "metadata": {},
   "source": [
    "*breakfast*"
   ]
  },
  {
   "cell_type": "markdown",
   "id": "88a5708f",
   "metadata": {},
   "source": [
    "`I am awake`"
   ]
  },
  {
   "cell_type": "markdown",
   "id": "5a18fb74",
   "metadata": {},
   "source": [
    "<a href=\"https://www.google.com/\">google</a>"
   ]
  },
  {
   "cell_type": "markdown",
   "id": "5343f8c8",
   "metadata": {},
   "source": [
    "![shark](http://awesomeocean.com/wp-content/uploads/2017/12/sharks-orig.jpg)"
   ]
  },
  {
   "cell_type": "code",
   "execution_count": null,
   "id": "808f08fc",
   "metadata": {},
   "outputs": [],
   "source": []
  }
 ],
 "metadata": {
  "kernelspec": {
   "display_name": "Python 3 (ipykernel)",
   "language": "python",
   "name": "python3"
  },
  "language_info": {
   "codemirror_mode": {
    "name": "ipython",
    "version": 3
   },
   "file_extension": ".py",
   "mimetype": "text/x-python",
   "name": "python",
   "nbconvert_exporter": "python",
   "pygments_lexer": "ipython3",
   "version": "3.9.12"
  }
 },
 "nbformat": 4,
 "nbformat_minor": 5
}
